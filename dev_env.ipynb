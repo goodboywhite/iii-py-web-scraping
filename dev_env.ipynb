{
 "cells": [
  {
   "cell_type": "markdown",
   "metadata": {
    "slideshow": {
     "slide_type": "slide"
    }
   },
   "source": [
    "# 建立開發環境\n",
    "\n",
    "## 郭耀仁"
   ]
  },
  {
   "cell_type": "markdown",
   "metadata": {
    "slideshow": {
     "slide_type": "slide"
    }
   },
   "source": [
    "## Agenda\n",
    "\n",
    "- Python 開發環境\n",
    "- 命令列\n",
    "- 虛擬環境\n",
    "- 爬蟲所需模組與 Chrome 外掛"
   ]
  },
  {
   "cell_type": "markdown",
   "metadata": {
    "slideshow": {
     "slide_type": "slide"
    }
   },
   "source": [
    "## Python 開發環境\n",
    "\n",
    "- 瀏覽器\n",
    "    - Google Colaboratory\n",
    "- 本機\n",
    "    - Anaconda"
   ]
  },
  {
   "cell_type": "markdown",
   "metadata": {
    "slideshow": {
     "slide_type": "subslide"
    }
   },
   "source": [
    "## 直接在瀏覽器使用\n",
    "\n",
    "- [Google Colaboratory](https://research.google.com/colaboratory/faq.html)"
   ]
  },
  {
   "cell_type": "markdown",
   "metadata": {
    "slideshow": {
     "slide_type": "subslide"
    }
   },
   "source": [
    "## 操作步驟\n",
    "\n",
    "- 登入 Google 帳號，開啟雲端硬碟\n",
    "- 點選「新增」\n",
    "- 點選「連結更多應用程式」\n",
    "- 搜尋「Colaboratory」\n",
    "- 點選「連結」\n",
    "- 新增 Google Colaboratory\n",
    "- 完成瀏覽器的開發環境建置"
   ]
  },
  {
   "cell_type": "markdown",
   "metadata": {
    "slideshow": {
     "slide_type": "subslide"
    }
   },
   "source": [
    "## 操作步驟截圖\n",
    "\n",
    "[建立瀏覽器的開發環境](https://www.datainpoint.com/python-essentials/01-quick-start.html#%E5%BB%BA%E7%AB%8B%E7%80%8F%E8%A6%BD%E5%99%A8%E7%9A%84%E9%96%8B%E7%99%BC%E7%92%B0%E5%A2%83)"
   ]
  },
  {
   "cell_type": "markdown",
   "metadata": {
    "slideshow": {
     "slide_type": "slide"
    }
   },
   "source": [
    "## 安裝 Anaconda\n",
    "\n",
    "- [Anaconda](https://www.continuum.io/downloads)"
   ]
  },
  {
   "cell_type": "markdown",
   "metadata": {
    "slideshow": {
     "slide_type": "subslide"
    }
   },
   "source": [
    "## 安裝 Anaconda（2）\n",
    "\n",
    "- 我為什麼推薦直接使用 [Anaconda](https://www.anaconda.com/download/)？\n",
    "    - 有 Python 直譯器\n",
    "    - 有編輯器 Jupyter Notebook\n",
    "    - 有套件與環境管理工具 conda\n",
    "    - 預先安裝好許多模組套件"
   ]
  },
  {
   "cell_type": "markdown",
   "metadata": {
    "slideshow": {
     "slide_type": "subslide"
    }
   },
   "source": [
    "## 安裝 Anaconda（3）\n",
    "\n",
    "- 注意事項\n",
    "    - 將 Python 加入路徑變數"
   ]
  },
  {
   "cell_type": "markdown",
   "metadata": {
    "slideshow": {
     "slide_type": "slide"
    }
   },
   "source": [
    "## 啟動 Jupyter Notebook\n",
    "\n",
    "- 在命令列輸入\n",
    "\n",
    "```bash\n",
    "jupyter notebook\n",
    "```\n",
    "\n",
    "- 新增一個 Notebook\n",
    "\n",
    "![day0102](https://storage.googleapis.com/2017_ithome_ironman/day0102.png)"
   ]
  },
  {
   "cell_type": "markdown",
   "metadata": {
    "slideshow": {
     "slide_type": "slide"
    }
   },
   "source": [
    "## 補充資訊\n",
    "\n",
    "- 命令列\n",
    "- 虛擬環境"
   ]
  },
  {
   "cell_type": "markdown",
   "metadata": {
    "slideshow": {
     "slide_type": "slide"
    }
   },
   "source": [
    "## 命令列"
   ]
  },
  {
   "cell_type": "markdown",
   "metadata": {
    "slideshow": {
     "slide_type": "subslide"
    }
   },
   "source": [
    "## 命令列\n",
    "\n",
    "- Windows 使用者請下載 [cmder](http://cmder.net/)\n",
    "- macOS 使用者請啟動 Terminal 終端機應用程式（Spotlight search -> \"Terminal\"）"
   ]
  },
  {
   "cell_type": "markdown",
   "metadata": {
    "slideshow": {
     "slide_type": "subslide"
    }
   },
   "source": [
    "## 命令列是什麼？\n",
    "\n",
    "- 電腦並不是一開始就有圖形化介面（Graphic User Interface, GUI）\n",
    "- 也不是一開始就有滑鼠\n",
    "- 因此跟電腦的溝通工具是命令列"
   ]
  },
  {
   "cell_type": "markdown",
   "metadata": {
    "slideshow": {
     "slide_type": "subslide"
    }
   },
   "source": [
    "## 基礎命令列指令\n",
    "\n",
    "- `pwd`\n",
    "- `ls`\n",
    "- `cd`\n",
    "- `mkdir`\n",
    "- `touch`\n",
    "- `mv`\n",
    "- `cp`\n",
    "- `exit`"
   ]
  },
  {
   "cell_type": "markdown",
   "metadata": {
    "slideshow": {
     "slide_type": "slide"
    }
   },
   "source": [
    "## 虛擬環境"
   ]
  },
  {
   "cell_type": "markdown",
   "metadata": {
    "slideshow": {
     "slide_type": "subslide"
    }
   },
   "source": [
    "## 建立適當的虛擬環境\n",
    "\n",
    "- 為了避免套件版本衝突，可以建立資源隔絕的虛擬環境\n",
    "\n",
    "```bash\n",
    "conda create -n pyscraper python=3\n",
    "conda activate pyscraper\n",
    "```"
   ]
  },
  {
   "cell_type": "markdown",
   "metadata": {
    "slideshow": {
     "slide_type": "subslide"
    }
   },
   "source": [
    "## 建立模組套件的清單\n",
    "\n",
    "- `requirement.txt`\n",
    "\n",
    "```\n",
    "ipykernel\n",
    "numpy\n",
    "pandas\n",
    "requests\n",
    "pyquery\n",
    "selenium\n",
    "```"
   ]
  },
  {
   "cell_type": "markdown",
   "metadata": {
    "slideshow": {
     "slide_type": "subslide"
    }
   },
   "source": [
    "## 安裝 `requirement.txt` 中的模組\n",
    "\n",
    "```bash\n",
    "pip install -r requirement.txt\n",
    "```"
   ]
  },
  {
   "cell_type": "markdown",
   "metadata": {
    "slideshow": {
     "slide_type": "subslide"
    }
   },
   "source": [
    "## 建立對應虛擬環境的 Kernel\n",
    "\n",
    "- 連結 Jupyter Notebook 與虛擬環境\n",
    "\n",
    "```bash\n",
    "python -m ipykernel install --user --name pyscraper --display-name \"pyscraper\"\n",
    "```"
   ]
  },
  {
   "cell_type": "markdown",
   "metadata": {
    "slideshow": {
     "slide_type": "subslide"
    }
   },
   "source": [
    "## 新增一個 pyscraper 的 Notebook\n",
    "\n",
    "![](https://storage.googleapis.com/py_ml_images/env_kernel.png)"
   ]
  },
  {
   "cell_type": "markdown",
   "metadata": {
    "slideshow": {
     "slide_type": "slide"
    }
   },
   "source": [
    "## 移除 Kernel\n",
    "\n",
    "```bash\n",
    "jupyter kernelspec list\n",
    "jupyter kernelspec remove pyscraper\n",
    "```"
   ]
  },
  {
   "cell_type": "markdown",
   "metadata": {
    "slideshow": {
     "slide_type": "subslide"
    }
   },
   "source": [
    "## 移除虛擬環境\n",
    "\n",
    "```bash\n",
    "deactivate\n",
    "conda env list\n",
    "conda remove --name pyscraper --all\n",
    "```"
   ]
  },
  {
   "cell_type": "markdown",
   "metadata": {
    "slideshow": {
     "slide_type": "subslide"
    }
   },
   "source": [
    "## 隨堂練習\n",
    "\n",
    "自行操作一次新增虛擬環境與 Kernel"
   ]
  },
  {
   "cell_type": "markdown",
   "metadata": {
    "slideshow": {
     "slide_type": "slide"
    }
   },
   "source": [
    "## 爬蟲所需模組與 Chrome 外掛"
   ]
  },
  {
   "cell_type": "markdown",
   "metadata": {
    "slideshow": {
     "slide_type": "subslide"
    }
   },
   "source": [
    "## 爬蟲 Python 模組\n",
    "\n",
    "|模組名|功用|\n",
    "|:-----|:---|\n",
    "|`requests`|對網站發送請求獲取資料|\n",
    "|`json`|解析 JSON 資料，將 JSON 寫入 Python 成為 dict；將 dict 寫出成為 JSON|\n",
    "|`pyquery`|對網站發送請求獲取資料與解析 HTML 資料|\n",
    "|`selenium`|自動化瀏覽器|"
   ]
  },
  {
   "cell_type": "markdown",
   "metadata": {
    "slideshow": {
     "slide_type": "subslide"
    }
   },
   "source": [
    "## 爬蟲 Python 模組文件連結\n",
    "\n",
    "- [requests](http://docs.python-requests.org/en/master/)\n",
    "- [json](https://docs.python.org/3/library/json.html)\n",
    "- [pyquery](https://pythonhosted.org/pyquery/)\n",
    "- [selenium](https://selenium-python.readthedocs.io/)"
   ]
  },
  {
   "cell_type": "markdown",
   "metadata": {
    "slideshow": {
     "slide_type": "subslide"
    }
   },
   "source": [
    "## 爬蟲 Chrome 外掛\n",
    "\n",
    "|外掛名|功用|\n",
    "|:-----|:---|\n",
    "|Quick Javascript Switcher|關閉 JavaScript 功能|\n",
    "|JSONView|讓 JSON 資料格式在瀏覽器上呈現得比較漂亮|\n",
    "|SelectorGadget|協助 CSS Selector 定位|\n",
    "|XPath Helper|協助 XPath 定位|"
   ]
  },
  {
   "cell_type": "markdown",
   "metadata": {
    "slideshow": {
     "slide_type": "subslide"
    }
   },
   "source": [
    "## 爬蟲 Chrome 外掛連結\n",
    "\n",
    "- [Quick Javascript Switcher](https://chrome.google.com/webstore/detail/quick-javascript-switcher/geddoclleiomckbhadiaipdggiiccfje)\n",
    "- [JSONView](https://chrome.google.com/webstore/detail/jsonview/chklaanhfefbnpoihckbnefhakgolnmc)\n",
    "- [SelectorGadget](https://chrome.google.com/webstore/detail/selectorgadget/mhjhnkcfbdhnjickkkdbjoemdmbfginb)\n",
    "- [XPath Helper](https://chrome.google.com/webstore/detail/xpath-helper/hgimnogjllphhhkhlmebbmlgjoejdpjl)"
   ]
  }
 ],
 "metadata": {
  "celltoolbar": "Slideshow",
  "kernelspec": {
   "display_name": "Python 3",
   "language": "python",
   "name": "python3"
  },
  "language_info": {
   "codemirror_mode": {
    "name": "ipython",
    "version": 3
   },
   "file_extension": ".py",
   "mimetype": "text/x-python",
   "name": "python",
   "nbconvert_exporter": "python",
   "pygments_lexer": "ipython3",
   "version": "3.6.7"
  }
 },
 "nbformat": 4,
 "nbformat_minor": 1
}
